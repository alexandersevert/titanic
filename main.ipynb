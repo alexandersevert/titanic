{
 "cells": [
  {
   "cell_type": "code",
   "execution_count": 1,
   "metadata": {},
   "outputs": [],
   "source": [
    "## Import packages\n",
    "\n",
    "import pandas as pd\n",
    "import numpy as np\n",
    "from sklearn import datasets\n",
    "from sklearn.neighbors import KNeighborsClassifier"
   ]
  },
  {
   "cell_type": "code",
   "execution_count": 2,
   "metadata": {},
   "outputs": [],
   "source": [
    "## Import CSVs and break into training and testing tables\n",
    "\n",
    "train = pd.read_csv('train.csv').convert_dtypes()\n",
    "\n",
    "train_x = train.drop(columns=['Survived'], axis=1)\n",
    "train_y = pd.DataFrame(train, columns=['Survived'])\n",
    "\n",
    "test_x = pd.read_csv('test.csv').convert_dtypes()"
   ]
  },
  {
   "cell_type": "code",
   "execution_count": 3,
   "metadata": {},
   "outputs": [
    {
     "name": "stdout",
     "output_type": "stream",
     "text": [
      "      Sex  Pclass      Value\n",
      "0  female       1  34.611765\n",
      "1  female       2  28.722973\n",
      "2  female       3  21.750000\n",
      "3    male       1  41.281386\n",
      "4    male       2  30.740707\n",
      "5    male       3  26.507589\n"
     ]
    }
   ],
   "source": [
    "## Calculate average age for each Sex and Pclass combination\n",
    "\n",
    "avg_age = train_x.pivot_table(\n",
    "    columns=['Sex', 'Pclass'], values='Age', aggfunc='mean').mean()\n",
    "\n",
    "avg_age = avg_age.reset_index()\n",
    "avg_age.columns = ['Sex', 'Pclass', 'Value']\n",
    "\n",
    "print(avg_age)\n"
   ]
  },
  {
   "cell_type": "code",
   "execution_count": 4,
   "metadata": {},
   "outputs": [],
   "source": [
    "## Replace missing ages with average age for Sex and Pclass\n",
    "\n",
    "train_x = train_x.merge(avg_age, left_on=['Sex', 'Pclass'], right_on=[\n",
    "                    'Sex', 'Pclass'], how='left')\n",
    "train_x['Age'].fillna(train_x['Value'], inplace=True)\n",
    "\n",
    "test_x = test_x.merge(avg_age, left_on=['Sex', 'Pclass'], right_on=[\n",
    "                  'Sex', 'Pclass'], how='left')\n",
    "test_x['Age'].fillna(test_x['Value'], inplace=True)\n"
   ]
  },
  {
   "cell_type": "code",
   "execution_count": 5,
   "metadata": {},
   "outputs": [],
   "source": [
    "## Convert male/female text to numbers\n",
    "\n",
    "train_x.loc[train_x['Sex'] == 'male', 'Sex_as_num'] = 0\n",
    "train_x.loc[train_x['Sex'] == 'female', 'Sex_as_num'] = 1\n",
    "\n",
    "test_x.loc[test_x['Sex'] == 'male', 'Sex_as_num'] = 0\n",
    "test_x.loc[test_x['Sex'] == 'female', 'Sex_as_num'] = 1"
   ]
  },
  {
   "cell_type": "code",
   "execution_count": 6,
   "metadata": {},
   "outputs": [],
   "source": [
    "## Remove text columns from training and testing dataframes and index\n",
    "\n",
    "train_x.set_index('PassengerId', inplace=True)\n",
    "train_x.drop(columns=['Name', 'Ticket', 'Cabin', 'Fare',\n",
    "           'Embarked', 'Sex', 'Value'], inplace=True)\n",
    "\n",
    "train_y.set_index(train_x.index, inplace=True)\n",
    "\n",
    "test_x.set_index('PassengerId', inplace=True)\n",
    "test_x.drop(columns=['Name', 'Ticket', 'Cabin', 'Fare',\n",
    "          'Embarked', 'Sex', 'Value'], inplace=True)"
   ]
  },
  {
   "cell_type": "code",
   "execution_count": 7,
   "metadata": {},
   "outputs": [
    {
     "name": "stderr",
     "output_type": "stream",
     "text": [
      "/opt/homebrew/Caskroom/miniconda/base/lib/python3.10/site-packages/sklearn/neighbors/_classification.py:200: DataConversionWarning: A column-vector y was passed when a 1d array was expected. Please change the shape of y to (n_samples,), for example using ravel().\n",
      "  return self._fit(X, y)\n"
     ]
    }
   ],
   "source": [
    "## Apply KNN algorithm to training set and use it to predict test set\n",
    "\n",
    "knn = KNeighborsClassifier(n_neighbors=7)\n",
    "knn.fit(train_x, train_y)\n",
    "\n",
    "test_y = knn.predict(test_x)"
   ]
  },
  {
   "cell_type": "code",
   "execution_count": 8,
   "metadata": {},
   "outputs": [],
   "source": [
    "## Format output table for submission and save as CSV\n",
    "\n",
    "test_x['Survived'] = test_y\n",
    "\n",
    "submit = test_x.drop(\n",
    "    columns=['Pclass', 'Age', 'SibSp', 'Parch', 'Sex_as_num']).reset_index()\n",
    "submit.to_csv('submission.csv', index=False)"
   ]
  },
  {
   "cell_type": "code",
   "execution_count": 9,
   "metadata": {},
   "outputs": [],
   "source": [
    "## Import answer CSV for comparison\n",
    "\n",
    "test_y_answer = pd.read_csv('answer.csv').convert_dtypes()"
   ]
  },
  {
   "cell_type": "code",
   "execution_count": 10,
   "metadata": {},
   "outputs": [],
   "source": [
    "## Format answer table\n",
    "\n",
    "test_y_answer.set_index(test_x.index, inplace=True)\n",
    "test_y_answer.drop(columns=['PassengerId'], inplace=True)\n",
    "\n",
    "test_x['Survived_answer'] = test_y_answer\n",
    "test_x = test_x.convert_dtypes()"
   ]
  },
  {
   "cell_type": "code",
   "execution_count": 11,
   "metadata": {},
   "outputs": [
    {
     "name": "stdout",
     "output_type": "stream",
     "text": [
      "Score = 72.2488038277512\n"
     ]
    }
   ],
   "source": [
    "## Calculate prediction score\n",
    "\n",
    "cnt_total = len(test_x)\n",
    "cnt_right = len(test_x[test_x[\"Survived\"] == test_x[\"Survived_answer\"]])\n",
    "cnt_wrong = len(test_x[test_x[\"Survived\"] != test_x[\"Survived_answer\"]])\n",
    "\n",
    "print(\"Score = \" + str(100 * cnt_right / cnt_total))"
   ]
  },
  {
   "cell_type": "code",
   "execution_count": 12,
   "metadata": {},
   "outputs": [],
   "source": [
    "## Count categories for wrong answers\n",
    "\n",
    "test_x['Prediction Correct'] = np.where((test_x[\"Survived\"] == test_x[\"Survived_answer\"]),True,False)\n",
    "\n",
    "test_x['Still Alive'] = np.where((test_x[\"Survived\"] != test_x[\"Survived_answer\"]) & (test_x[\"Survived\"] == 0) & (test_x[\"Survived_answer\"] == 1),True,False)\n",
    "\n",
    "test_x['Actually Died'] = np.where((test_x[\"Survived\"] != test_x[\"Survived_answer\"]) & (test_x[\"Survived\"] == 1) & (test_x[\"Survived_answer\"] == 0),True,False)"
   ]
  }
 ],
 "metadata": {
  "kernelspec": {
   "display_name": "Python 3.10.4 ('base')",
   "language": "python",
   "name": "python3"
  },
  "language_info": {
   "codemirror_mode": {
    "name": "ipython",
    "version": 3
   },
   "file_extension": ".py",
   "mimetype": "text/x-python",
   "name": "python",
   "nbconvert_exporter": "python",
   "pygments_lexer": "ipython3",
   "version": "3.10.4"
  },
  "orig_nbformat": 4,
  "vscode": {
   "interpreter": {
    "hash": "e7cb1b9ae4d417fedf7f40a8eec98f7cfbd359e096bd857395a915f4609834ce"
   }
  }
 },
 "nbformat": 4,
 "nbformat_minor": 2
}
